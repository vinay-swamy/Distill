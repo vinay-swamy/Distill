{
 "cells": [
  {
   "cell_type": "code",
   "execution_count": 2,
   "metadata": {},
   "outputs": [
    {
     "name": "stderr",
     "output_type": "stream",
     "text": [
      "/data/swamyvs/anaconda3/lib/python3.7/site-packages/IPython/core/interactiveshell.py:3063: DtypeWarning: Columns (1,9) have mixed types.Specify dtype option on import or set low_memory=False.\n",
      "  interactivity=interactivity, compiler=compiler, result=result)\n",
      "/data/swamyvs/anaconda3/lib/python3.7/site-packages/ipykernel_launcher.py:81: SettingWithCopyWarning: \n",
      "A value is trying to be set on a copy of a slice from a DataFrame\n",
      "\n",
      "See the caveats in the documentation: https://pandas.pydata.org/pandas-docs/stable/user_guide/indexing.html#returning-a-view-versus-a-copy\n",
      "/data/swamyvs/anaconda3/lib/python3.7/site-packages/ipykernel_launcher.py:83: SettingWithCopyWarning: \n",
      "A value is trying to be set on a copy of a slice from a DataFrame\n",
      "\n",
      "See the caveats in the documentation: https://pandas.pydata.org/pandas-docs/stable/user_guide/indexing.html#returning-a-view-versus-a-copy\n",
      "/data/swamyvs/anaconda3/lib/python3.7/site-packages/ipykernel_launcher.py:86: SettingWithCopyWarning: \n",
      "A value is trying to be set on a copy of a slice from a DataFrame\n",
      "\n",
      "See the caveats in the documentation: https://pandas.pydata.org/pandas-docs/stable/user_guide/indexing.html#returning-a-view-versus-a-copy\n"
     ]
    }
   ],
   "source": [
    "#%%\n",
    "import pandas as pd \n",
    "import numpy as np \n",
    "import os \n",
    "import pyfasta\n",
    "import pybedtools\n",
    "import concurrent.futures as cf\n",
    "import argparse\n",
    "os.chdir('/data/swamyvs/Distill')\n",
    "\n",
    "\n",
    "def encode_and_pad_seq(seq):\n",
    "    res = [None]*len(seq)\n",
    "    '''one hot encod nucleotide array. Any nonstandard nucleotide will be set to n\n",
    "        \n",
    "    '''\n",
    "    for i, nt in enumerate(seq.lower()):\n",
    "        if nt == 'a':\n",
    "            res[i]=np.array([1,0,0,0,0])\n",
    "        elif nt == 'c':\n",
    "            res[i] = np.array([0,1,0,0,0])\n",
    "        elif nt == 'g':\n",
    "            res[i] = np.array([0,0,1,0,0])# leave space for n so array is in quasi alphabetical order \n",
    "        elif nt == 't':\n",
    "            res[i] = np.array([0,0,0,0,1])\n",
    "        else:# nt is notstandard \n",
    "            res[i] = np.array([0,0,0,1,0])\n",
    "    res = np.array(res)\n",
    "    return res\n",
    "    # pad_size = max_seq_size- len(res) \n",
    "    # pad = np.zeros((pad_size, res.shape[1]))\n",
    "    # return np.concatenate([res, pad], axis = 0)\n",
    "def vectorize_variant(loc, pad):\n",
    "    window_size = pad*2 +1\n",
    "    chrom = loc[0]\n",
    "    start = loc[1]\n",
    "    end = loc[2]\n",
    "    sub_type = loc[3]\n",
    "    ref = loc[4]\n",
    "    alt = loc[5]\n",
    "    status = loc[6]\n",
    "    if len(alt) > window_size:\n",
    "        print('Insertion  is longer than window size; Skipping\\n')\n",
    "        return None\n",
    "    \n",
    "    try:\n",
    "\n",
    "        if sub_type == 'snp':\n",
    "            #simple just swap out the middle nt with the alt\n",
    "            alt_seq=genome[chrom][(start-pad):start] + alt + genome[chrom][end:(end+pad)]\n",
    "        elif sub_type == 'ins':\n",
    "            #\n",
    "            new_pad = (pad *2 +1) - len(alt)\n",
    "            lhs = int(new_pad/2)\n",
    "            rhs = new_pad-lhs\n",
    "            alt_seq=genome[chrom][(start-lhs):start] + alt + genome[chrom][end:(end+rhs)]\n",
    "        elif sub_type == 'del':\n",
    "            new_end =  start + len(alt)# technically this is the same as end, but i like to make it a little more explicit\n",
    "            alt_seq = genome[chrom][(start-pad):(start+1)] + genome[chrom][new_end:(new_end+pad)]\n",
    "\n",
    "        seq_vctr = encode_and_pad_seq(alt_seq)\n",
    "        assert seq_vctr.shape == (window_size, 5)\n",
    "        return((seq_vctr,status))\n",
    "    except:\n",
    "        print(f'{chrom}:{start}-{end} {sub_type} failed')\n",
    "        return None\n",
    "\n",
    "\n",
    "# %%\n",
    "# parser = argparse.ArgumentParser()\n",
    "# parser.add_argument('--pad', action='store', type = int)\n",
    "# parser.add_argument('--ncores', action = 'store', type = int)\n",
    "# args = parser.parse_args()\n",
    "\n",
    "# %%\n",
    "# pad = args.pad\n",
    "# NCORES = args.ncores\n",
    "pad = 5\n",
    "NCORES = 16\n",
    "all_variants = pd.read_csv('clean_data/all_variants_locs_withstatus.tsv.gz', sep = '\\t')\n",
    "genome = pyfasta.Fasta('ref/gencode_genome_grch37_clean.fa')\n",
    "# convert numeric chroms to chr chroms to match gencode genome \n",
    "all_variants['chrom'] = all_variants.chrom.astype(str)\n",
    "chr_chroms = [str(i) for i in range(1,24 )] + ['X' , 'Y' ]\n",
    "is_numeric_chr = all_variants.chrom.isin( chr_chroms ) \n",
    "repl_chr =['chr'+i for i in  all_variants['chrom'][is_numeric_chr]]\n",
    "all_variants['chrom'][is_numeric_chr] = repl_chr\n",
    "#replace MT with M\n",
    "all_variants['chrom'][all_variants['chrom'] == 'MT'] = 'chrM'\n",
    "# convert ts/tp types t snp\n",
    "is_snp= ~all_variants['sub_type'].isin(['ins', 'del']) \n",
    "all_variants['sub_type'][is_snp] = 'snp'\n",
    "variant_list = all_variants[['chrom', 'start', 'end', 'sub_type', 'ref', 'alt', 'Status']].to_numpy()\n",
    "\n",
    "with cf.ProcessPoolExecutor(max_workers=NCORES) as proc_exec:\n",
    "    futures = {proc_exec.submit(vectorize_variant, var, 5) for var in variant_list }\n",
    "    variant_vectors_raw = [ task.result() for task in cf.as_completed(futures)]\n",
    "#%%\n",
    "variant_vectors = np.asarray([tup[0] for tup in variant_vectors_raw if tup is not None ])\n",
    "target = np.asarray([tup[1] for tup in variant_vectors_raw if tup is not None ])\n",
    "\n",
    "#%%"
   ]
  },
  {
   "cell_type": "code",
   "execution_count": 7,
   "metadata": {},
   "outputs": [
    {
     "data": {
      "text/plain": [
       "(11, 5)"
      ]
     },
     "execution_count": 7,
     "metadata": {},
     "output_type": "execute_result"
    }
   ],
   "source": [
    "variant_vectors[1].shape"
   ]
  },
  {
   "cell_type": "code",
   "execution_count": 8,
   "metadata": {},
   "outputs": [],
   "source": [
    "var_dims = [x.shape for x in variant_vectors]\n",
    "# %%\n",
    "bad_shape = [i for i in range(len(var_dims)) if var_dims[i] != (11,5) ]"
   ]
  },
  {
   "cell_type": "code",
   "execution_count": 9,
   "metadata": {},
   "outputs": [
    {
     "data": {
      "text/plain": [
       "12120"
      ]
     },
     "execution_count": 9,
     "metadata": {},
     "output_type": "execute_result"
    }
   ],
   "source": [
    "len(bad_shape)"
   ]
  },
  {
   "cell_type": "code",
   "execution_count": 21,
   "metadata": {},
   "outputs": [
    {
     "data": {
      "text/plain": [
       "(15, 5)"
      ]
     },
     "execution_count": 21,
     "metadata": {},
     "output_type": "execute_result"
    }
   ],
   "source": []
  },
  {
   "cell_type": "code",
   "execution_count": 16,
   "metadata": {},
   "outputs": [
    {
     "data": {
      "text/plain": [
       "4055791"
      ]
     },
     "execution_count": 16,
     "metadata": {},
     "output_type": "execute_result"
    }
   ],
   "source": [
    "variant_vectors = np.asarray([var for var in variant_vectors_raw if var.shape == (11,5)])"
   ]
  },
  {
   "cell_type": "code",
   "execution_count": 17,
   "metadata": {},
   "outputs": [
    {
     "data": {
      "text/plain": [
       "4055791"
      ]
     },
     "execution_count": 17,
     "metadata": {},
     "output_type": "execute_result"
    }
   ],
   "source": [
    "len(all_variants)"
   ]
  },
  {
   "cell_type": "code",
   "execution_count": 20,
   "metadata": {},
   "outputs": [
    {
     "data": {
      "text/plain": [
       "(11, 5)"
      ]
     },
     "execution_count": 20,
     "metadata": {},
     "output_type": "execute_result"
    }
   ],
   "source": [
    "vectorize_variant(variant_list[bad_shape[0]], 5)[0].shape"
   ]
  },
  {
   "cell_type": "code",
   "execution_count": null,
   "metadata": {},
   "outputs": [],
   "source": []
  }
 ],
 "metadata": {
  "kernelspec": {
   "display_name": "Python 3",
   "language": "python",
   "name": "python3"
  },
  "language_info": {
   "codemirror_mode": {
    "name": "ipython",
    "version": 3
   },
   "file_extension": ".py",
   "mimetype": "text/x-python",
   "name": "python",
   "nbconvert_exporter": "python",
   "pygments_lexer": "ipython3",
   "version": "3.7.6"
  }
 },
 "nbformat": 4,
 "nbformat_minor": 4
}
